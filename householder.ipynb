{
 "cells": [
  {
   "cell_type": "code",
   "execution_count": 1,
   "metadata": {
    "collapsed": true
   },
   "outputs": [],
   "source": [
    "def Householder(H, col, row_start, row_end):\n",
    "\n",
    "    v = np.zeros(row_end-row_start+1)\n",
    "    v[0] = -np.sign(H[row_start, col])*np.linalg.norm(H[row_start:row_end+1, col])\n",
    "    v += H[row_start:row_end+1, col]\n",
    "    return v"
   ]
  },
  {
   "cell_type": "code",
   "execution_count": 2,
   "metadata": {},
   "outputs": [
    {
     "data": {
      "text/plain": [
       "array([[ 4,  1, -2,  2],\n",
       "       [ 1,  2,  0,  1],\n",
       "       [-2,  0,  3, -2],\n",
       "       [ 2,  1, -2, -1]])"
      ]
     },
     "execution_count": 2,
     "metadata": {},
     "output_type": "execute_result"
    }
   ],
   "source": [
    "import numpy as np \n",
    "A = np.array([[4,1,-2,2],[1,2,0,1],[-2,0,3,-2],[2,1,-2,-1]])\n",
    "n = A.shape[0]\n",
    "A"
   ]
  },
  {
   "cell_type": "code",
   "execution_count": 3,
   "metadata": {},
   "outputs": [
    {
     "data": {
      "text/plain": [
       "array([-2., -2.,  2.])"
      ]
     },
     "execution_count": 3,
     "metadata": {},
     "output_type": "execute_result"
    }
   ],
   "source": [
    "v = Householder(A, 0, 1, n-1)\n",
    "v"
   ]
  },
  {
   "cell_type": "code",
   "execution_count": 4,
   "metadata": {},
   "outputs": [
    {
     "data": {
      "text/plain": [
       "array([[ 1.        ,  0.        ,  0.        ,  0.        ],\n",
       "       [ 0.        ,  0.33333333, -0.66666667,  0.66666667],\n",
       "       [ 0.        , -0.66666667,  0.33333333,  0.66666667],\n",
       "       [ 0.        ,  0.66666667,  0.66666667,  0.33333333]])"
      ]
     },
     "execution_count": 4,
     "metadata": {},
     "output_type": "execute_result"
    }
   ],
   "source": [
    "H = np.eye(len(v)) - 2*np.outer(v,v)/np.inner(v,v)\n",
    "\n",
    "H1 = np.zeros([n,n])\n",
    "H1[0][0] = 1\n",
    "H1[1:, 1:] = H\n",
    "H1"
   ]
  },
  {
   "cell_type": "code",
   "execution_count": 5,
   "metadata": {},
   "outputs": [
    {
     "data": {
      "text/plain": [
       "array([[ 4.   ,  3.   , -0.   ,  0.   ],\n",
       "       [ 3.   ,  3.333, -1.333, -1.   ],\n",
       "       [-0.   , -1.333, -1.   , -1.333],\n",
       "       [ 0.   , -1.   , -1.333,  1.667]])"
      ]
     },
     "execution_count": 5,
     "metadata": {},
     "output_type": "execute_result"
    }
   ],
   "source": [
    "A2 = H1@A@H1\n",
    "np.round(A2,3)"
   ]
  },
  {
   "cell_type": "code",
   "execution_count": 42,
   "metadata": {},
   "outputs": [
    {
     "data": {
      "text/plain": [
       "array([ 0.33333333, -1.        ])"
      ]
     },
     "execution_count": 42,
     "metadata": {},
     "output_type": "execute_result"
    }
   ],
   "source": [
    "v = Householder(A2, 1, 2, n-1)\n",
    "v"
   ]
  },
  {
   "cell_type": "code",
   "execution_count": 44,
   "metadata": {},
   "outputs": [
    {
     "data": {
      "text/plain": [
       "array([[ 0.8,  0.6],\n",
       "       [ 0.6, -0.8]])"
      ]
     },
     "execution_count": 44,
     "metadata": {},
     "output_type": "execute_result"
    }
   ],
   "source": [
    "H = np.eye(len(v)) - 2*np.outer(v,v)/np.inner(v,v)\n",
    "H"
   ]
  },
  {
   "cell_type": "code",
   "execution_count": 45,
   "metadata": {},
   "outputs": [
    {
     "data": {
      "text/plain": [
       "array([[ 1. ,  0. ,  0. ,  0. ],\n",
       "       [ 0. ,  1. ,  0. ,  0. ],\n",
       "       [ 0. ,  0. ,  0.8,  0.6],\n",
       "       [ 0. ,  0. ,  0.6, -0.8]])"
      ]
     },
     "execution_count": 45,
     "metadata": {},
     "output_type": "execute_result"
    }
   ],
   "source": [
    "H2 = np.zeros([n,n])\n",
    "H2[0][0] = 1\n",
    "H2[1][1] = 1\n",
    "H2[2:, 2:] = H\n",
    "H2"
   ]
  },
  {
   "cell_type": "code",
   "execution_count": 48,
   "metadata": {},
   "outputs": [
    {
     "data": {
      "text/plain": [
       "array([[ 4.   ,  3.   ,  0.   , -0.   ],\n",
       "       [ 3.   ,  3.333, -1.667, -0.   ],\n",
       "       [ 0.   , -1.667, -1.32 , -0.907],\n",
       "       [-0.   , -0.   , -0.907,  1.987]])"
      ]
     },
     "execution_count": 48,
     "metadata": {},
     "output_type": "execute_result"
    }
   ],
   "source": [
    "A3 = H2@A2@H2\n",
    "np.round(A3,3)"
   ]
  },
  {
   "cell_type": "code",
   "execution_count": 59,
   "metadata": {},
   "outputs": [
    {
     "data": {
      "text/plain": [
       "array([[ 4.   ,  3.162,  0.   , -0.   ,  0.   ],\n",
       "       [ 3.162,  4.3  ,  1.735,  0.   , -0.   ],\n",
       "       [ 0.   ,  1.735,  4.753,  5.284,  0.   ],\n",
       "       [-0.   ,  0.   ,  5.284, -1.009, -1.029],\n",
       "       [ 0.   , -0.   , -0.   , -1.029,  0.956]])"
      ]
     },
     "execution_count": 59,
     "metadata": {},
     "output_type": "execute_result"
    }
   ],
   "source": [
    "A = np.array([[4,1,-2,2,1],[1,2,0,1,2],[-2,0,3,-2,3],[2,1,-2,-1,4],[1,2,3,4,5]])\n",
    "n = A.shape[0]\n",
    "A_param = A.copy()\n",
    "for i in range(n - 2):\n",
    "    v = Householder(A_param, i, 1+i, n-1)\n",
    "    H = np.eye(len(v)) - 2 * np.outer(v,v)/np.inner(v,v)\n",
    "    Q = np.zeros([n,n])\n",
    "    for j in range(1+i):\n",
    "        Q[j][j] = 1\n",
    "    Q[1+i:, 1+i:] = H \n",
    "    A_param = Q@A_param@Q \n",
    "np.round(A_param,3)"
   ]
  },
  {
   "cell_type": "markdown",
   "metadata": {
    "collapsed": true
   },
   "source": [
    "### Householder full code"
   ]
  },
  {
   "cell_type": "code",
   "execution_count": null,
   "metadata": {
    "collapsed": true
   },
   "outputs": [],
   "source": []
  }
 ],
 "metadata": {
  "kernelspec": {
   "display_name": "Python 3",
   "language": "python",
   "name": "python3"
  },
  "language_info": {
   "codemirror_mode": {
    "name": "ipython",
    "version": 3
   },
   "file_extension": ".py",
   "mimetype": "text/x-python",
   "name": "python",
   "nbconvert_exporter": "python",
   "pygments_lexer": "ipython3",
   "version": "3.6.3"
  }
 },
 "nbformat": 4,
 "nbformat_minor": 2
}
